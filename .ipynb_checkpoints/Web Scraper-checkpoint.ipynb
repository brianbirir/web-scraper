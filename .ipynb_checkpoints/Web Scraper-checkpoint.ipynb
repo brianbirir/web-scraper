{
 "cells": [
  {
   "cell_type": "code",
   "execution_count": 6,
   "metadata": {
    "collapsed": false
   },
   "outputs": [
    {
     "ename": "NameError",
     "evalue": "name 'count' is not defined",
     "output_type": "error",
     "traceback": [
      "\u001b[0;31m---------------------------------------------------------------------------\u001b[0m",
      "\u001b[0;31mNameError\u001b[0m                                 Traceback (most recent call last)",
      "\u001b[0;32m<ipython-input-6-4a52c27a62c2>\u001b[0m in \u001b[0;36m<module>\u001b[0;34m()\u001b[0m\n\u001b[1;32m     56\u001b[0m         \u001b[0;32mfor\u001b[0m \u001b[0mchild\u001b[0m \u001b[0;32min\u001b[0m \u001b[0mtag\u001b[0m\u001b[0;34m.\u001b[0m\u001b[0mcontents\u001b[0m\u001b[0;34m:\u001b[0m\u001b[0;34m\u001b[0m\u001b[0m\n\u001b[1;32m     57\u001b[0m             \u001b[0mfinal_url\u001b[0m \u001b[0;34m=\u001b[0m \u001b[0minfonet_url\u001b[0m \u001b[0;34m+\u001b[0m \u001b[0mchild\u001b[0m\u001b[0;34m[\u001b[0m\u001b[0;34m'href'\u001b[0m\u001b[0;34m]\u001b[0m\u001b[0;34m\u001b[0m\u001b[0m\n\u001b[0;32m---> 58\u001b[0;31m             \u001b[0mcount\u001b[0m \u001b[0;34m+=\u001b[0m \u001b[0;36m1\u001b[0m\u001b[0;34m\u001b[0m\u001b[0m\n\u001b[0m\u001b[1;32m     59\u001b[0m             \u001b[0;31m#print final_url\u001b[0m\u001b[0;34m\u001b[0m\u001b[0;34m\u001b[0m\u001b[0m\n\u001b[1;32m     60\u001b[0m             \u001b[0mdata_file\u001b[0m\u001b[0;34m.\u001b[0m\u001b[0mwriterow\u001b[0m\u001b[0;34m(\u001b[0m\u001b[0;34m[\u001b[0m\u001b[0mcount\u001b[0m\u001b[0;34m,\u001b[0m \u001b[0mfinal_url\u001b[0m\u001b[0;34m]\u001b[0m \u001b[0;34m)\u001b[0m\u001b[0;34m\u001b[0m\u001b[0m\n",
      "\u001b[0;31mNameError\u001b[0m: name 'count' is not defined"
     ]
    }
   ],
   "source": [
    "#!/usr/bin/python\n",
    "\n",
    "# import library used to query a website\n",
    "from urllib2 import Request, urlopen, URLError, HTTPError\n",
    "\n",
    "# import Beautiful soup functions\n",
    "from bs4 import BeautifulSoup\n",
    "\n",
    "# import csv library\n",
    "import csv\n",
    "\n",
    "# specify url and headers\n",
    "scrape_url = 'http://infonet-biovision.org/crops-fruits-veg'\n",
    "user_agent = 'Mozilla/5.0 (Windows NT 6.1; Win64; x64)'\n",
    "browser_headers = {'User-Agent': user_agent}\n",
    "browser_data=None\n",
    "\n",
    "# request url\n",
    "req = Request(scrape_url,browser_data,browser_headers)\n",
    "\n",
    "# store url response\n",
    "page_response = urlopen(req)\n",
    "\n",
    "# try and catch url and http error \n",
    "try: \n",
    "    page_response\n",
    "except HTTPError as e:\n",
    "    print 'The server couldn\\'t fulfill the request.'\n",
    "    print 'Error code: ', e.code\n",
    "except URLError as e:\n",
    "    print 'We failed to reach a server.'\n",
    "    print 'Reason: ', e.reason\n",
    "else:\n",
    "    read_html = page_response.read()\n",
    "\n",
    "    # parse html page via Beautiful Soup\n",
    "    soup = BeautifulSoup(read_html,'lxml')\n",
    "\n",
    "    # prettify output\n",
    "    # print soup.prettify()\n",
    "    tags = soup.find_all('td','views-field-title')\n",
    "    \n",
    "    # create and open csv file\n",
    "    f = open(\"infonet-plant-health-links.csv\",\"w\")\n",
    "    data_file = csv.writer(f)\n",
    "    data_file.writerow(['No.', 'URL'])\n",
    "    \n",
    "    # counter\n",
    "    count = 0\n",
    "    \n",
    "    # loop through tags\n",
    "    for tag in tags:\n",
    "        infonet_url = 'http://infonet-biovision.org/'\n",
    "        td_content =  tag.contents\n",
    "        # remove new line and space characters\n",
    "        td_content.remove(\" \")\n",
    "        td_content.remove(\"\\n\")\n",
    "        #print td_content\n",
    "        for child in tag.contents:\n",
    "            final_url = infonet_url + child['href']\n",
    "            count += 1\n",
    "            #print final_url\n",
    "            data_file.writerow([count, final_url] )\n",
    "    f.close()\n",
    "    \n",
    "    # get number of tags\n",
    "    print len(tags)"
   ]
  },
  {
   "cell_type": "code",
   "execution_count": null,
   "metadata": {
    "collapsed": true
   },
   "outputs": [],
   "source": []
  }
 ],
 "metadata": {
  "kernelspec": {
   "display_name": "Python 2",
   "language": "python",
   "name": "python2"
  },
  "language_info": {
   "codemirror_mode": {
    "name": "ipython",
    "version": 2
   },
   "file_extension": ".py",
   "mimetype": "text/x-python",
   "name": "python",
   "nbconvert_exporter": "python",
   "pygments_lexer": "ipython2",
   "version": "2.7.11"
  }
 },
 "nbformat": 4,
 "nbformat_minor": 0
}
