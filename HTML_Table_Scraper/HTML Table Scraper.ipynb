{
 "cells": [
  {
   "cell_type": "code",
   "execution_count": null,
   "metadata": {
    "collapsed": true
   },
   "outputs": [],
   "source": [
    "# Web Scraper for HTML table\n",
    "\n",
    "import requests\n",
    "import bs4\n",
    "import csv\n",
    "\n",
    "# create and open csv file\n",
    "f = open(\"kenya_wards.csv\",\"w\")\n",
    "data_file = csv.writer(f)\n",
    "data_file.writerow(['WardName', 'Constituency','County','WardPop2009','AreaSqKms','VoterTarget','RegVoters','Voters %'])\n",
    "\n",
    "# get elections database page\n",
    "res = requests.get('http://kenyaelectiondatabase.co.ke/?page_id=1010')\n",
    "\n",
    "res.raise_for_status()\n",
    "\n",
    "# parse HTML\n",
    "parseHTML = bs4.BeautifulSoup(res.text,'lxml')\n",
    "\n",
    "# Create an object of the first object that is id tablepress-13\n",
    "wards_tbl = parseHTML.find(id='tablepress-13')\n",
    "\n",
    "# find all tr and skip the first one\n",
    "for ward_row in wards_tbl.find_all('tr')[1:]:    \n",
    "    \n",
    "    # get columns\n",
    "    ward_cols = ward_row.find_all('td')\n",
    "    \n",
    "    # store data in list\n",
    "    ward_data = []\n",
    "    \n",
    "    for td in ward_cols:\n",
    "        text = ''.join(td)\n",
    "        utftext = str(text.encode('utf-8'))\n",
    "        ward_data.append(utftext)\n",
    "\n",
    "    data_file.writerow(ward_data)\n",
    "    #print ward_data\n",
    "\n",
    "f.close()"
   ]
  }
 ],
 "metadata": {
  "kernelspec": {
   "display_name": "Python 2",
   "language": "python",
   "name": "python2"
  },
  "language_info": {
   "codemirror_mode": {
    "name": "ipython",
    "version": 2
   },
   "file_extension": ".py",
   "mimetype": "text/x-python",
   "name": "python",
   "nbconvert_exporter": "python",
   "pygments_lexer": "ipython2",
   "version": "2.7.13"
  }
 },
 "nbformat": 4,
 "nbformat_minor": 2
}
